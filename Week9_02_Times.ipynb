{
  "nbformat": 4,
  "nbformat_minor": 0,
  "metadata": {
    "celltoolbar": "Tags",
    "kernelspec": {
      "display_name": "Python 3",
      "language": "python",
      "name": "python3"
    },
    "language_info": {
      "codemirror_mode": {
        "name": "ipython",
        "version": 3
      },
      "file_extension": ".py",
      "mimetype": "text/x-python",
      "name": "python",
      "nbconvert_exporter": "python",
      "pygments_lexer": "ipython3",
      "version": "3.7.7"
    },
    "colab": {
      "name": "Week9_02_Times.ipynb",
      "provenance": [],
      "collapsed_sections": []
    }
  },
  "cells": [
    {
      "cell_type": "markdown",
      "metadata": {
        "id": "NdSFBTtgGOc4"
      },
      "source": [
        "# Times and places"
      ]
    },
    {
      "cell_type": "markdown",
      "metadata": {
        "tags": [],
        "id": "sUkx-aNeGOc7"
      },
      "source": [
        "**Dénes Csala**  \n",
        "University of Bristol, 2021  \n",
        "\n",
        "Based on *Elements of Data Science* ([Allen B. Downey](https://allendowney.com), 2021) and *Python Data Science Handbook* ([Jake VanderPlas](https://jakevdp.github.io/PythonDataScienceHandbook/), 2018)\n",
        "\n",
        "License: [MIT](https://mit-license.org/)"
      ]
    },
    {
      "cell_type": "markdown",
      "metadata": {
        "id": "J9r286HZGOc9"
      },
      "source": [
        "In the previous workbook, you learned about variables and two kinds of values: integers and floating-point numbers.\n",
        "\n",
        "In this chapter, you'll see some additional types:\n",
        "\n",
        "* Strings, which represent text.\n",
        "\n",
        "* Time stamps, which represent dates and times.\n",
        "\n",
        "* And several ways to represent and display geographical locations.\n",
        "\n",
        "Not every data science project uses all of these types, but many projects use at least one."
      ]
    },
    {
      "cell_type": "markdown",
      "metadata": {
        "id": "8_vgweLDGOc-"
      },
      "source": [
        "## Strings\n",
        "\n",
        "A **string** is a sequence of letters, numbers, and punctuation marks.\n",
        "In Python you can create a string by typing letters between single or double quotation marks."
      ]
    },
    {
      "cell_type": "code",
      "metadata": {
        "id": "fVHvXtMqGOc_",
        "colab": {
          "base_uri": "https://localhost:8080/",
          "height": 35
        },
        "outputId": "34ec2489-0cf0-43ae-eb5a-467f173869d9"
      },
      "source": [
        "'Hello'"
      ],
      "execution_count": 7,
      "outputs": [
        {
          "output_type": "execute_result",
          "data": {
            "application/vnd.google.colaboratory.intrinsic+json": {
              "type": "string"
            },
            "text/plain": [
              "'Hello'"
            ]
          },
          "metadata": {},
          "execution_count": 7
        }
      ]
    },
    {
      "cell_type": "code",
      "metadata": {
        "id": "J3Nf1CGyGOdB",
        "colab": {
          "base_uri": "https://localhost:8080/",
          "height": 35
        },
        "outputId": "771b9537-96f9-4ce1-f117-abaa55410137"
      },
      "source": [
        "\"World\""
      ],
      "execution_count": 8,
      "outputs": [
        {
          "output_type": "execute_result",
          "data": {
            "application/vnd.google.colaboratory.intrinsic+json": {
              "type": "string"
            },
            "text/plain": [
              "'World'"
            ]
          },
          "metadata": {},
          "execution_count": 8
        }
      ]
    },
    {
      "cell_type": "markdown",
      "metadata": {
        "id": "cSwGkJtWGOdC"
      },
      "source": [
        "And you can assign string values to variables."
      ]
    },
    {
      "cell_type": "code",
      "metadata": {
        "id": "_NzzRFmOGOdD"
      },
      "source": [
        "first = 'Data'"
      ],
      "execution_count": 3,
      "outputs": []
    },
    {
      "cell_type": "code",
      "metadata": {
        "id": "4IbeoemCGOdE"
      },
      "source": [
        "last = \"Science\""
      ],
      "execution_count": 4,
      "outputs": []
    },
    {
      "cell_type": "markdown",
      "metadata": {
        "id": "rB-CoXOWGOdF"
      },
      "source": [
        "Some arithmetic operators work with strings, but they might no do what you expect.  For example, the `+` operator \"concatenates\" two strings; that is, it creates a new string that contains the first string followed by the second string:"
      ]
    },
    {
      "cell_type": "code",
      "metadata": {
        "id": "382HJr4bGOdF",
        "colab": {
          "base_uri": "https://localhost:8080/",
          "height": 35
        },
        "outputId": "bc8d6666-c4dd-4c2e-8088-f873b8d02d5d"
      },
      "source": [
        "first + last"
      ],
      "execution_count": 9,
      "outputs": [
        {
          "output_type": "execute_result",
          "data": {
            "application/vnd.google.colaboratory.intrinsic+json": {
              "type": "string"
            },
            "text/plain": [
              "'DataScience'"
            ]
          },
          "metadata": {},
          "execution_count": 9
        }
      ]
    },
    {
      "cell_type": "markdown",
      "metadata": {
        "id": "nBSVIcbnGOdG"
      },
      "source": [
        "If you want to put a space between the words, you can use a string that contains a space:"
      ]
    },
    {
      "cell_type": "code",
      "metadata": {
        "id": "cGbG4xWIGOdG",
        "colab": {
          "base_uri": "https://localhost:8080/",
          "height": 35
        },
        "outputId": "abc3e954-7255-4c39-bf21-e76f0b6cddb7"
      },
      "source": [
        "first + ' ' + last"
      ],
      "execution_count": 10,
      "outputs": [
        {
          "output_type": "execute_result",
          "data": {
            "application/vnd.google.colaboratory.intrinsic+json": {
              "type": "string"
            },
            "text/plain": [
              "'Data Science'"
            ]
          },
          "metadata": {},
          "execution_count": 10
        }
      ]
    },
    {
      "cell_type": "markdown",
      "metadata": {
        "id": "CqmnyU_eGOdH"
      },
      "source": [
        "Strings are used to store text data like names, addresses, titles, etc.\n",
        "\n",
        "When you read data from a file, you might see values that look like numbers, but they are actually strings, like this:"
      ]
    },
    {
      "cell_type": "code",
      "metadata": {
        "id": "rWgwRepcGOdH"
      },
      "source": [
        "not_actually_a_number = '123'"
      ],
      "execution_count": 11,
      "outputs": []
    },
    {
      "cell_type": "markdown",
      "metadata": {
        "id": "tySsrsyjGOdI"
      },
      "source": [
        "If you try to do math with these strings, you *might* get an error.\n",
        "For example, the following expression causes a `TypeError` with the message \"can only concatenate `str` (not `int`) to `str`\".\n",
        "\n",
        "```\n",
        "not_actually_a_number + 1\n",
        "```\n",
        "\n",
        "But you don't always get an error; instead, you might get a surprising result.  For example:"
      ]
    },
    {
      "cell_type": "code",
      "metadata": {
        "id": "NKHUTaDfGOdI",
        "colab": {
          "base_uri": "https://localhost:8080/",
          "height": 35
        },
        "outputId": "a7341fba-8c10-4354-cc44-8b25e81a34f7"
      },
      "source": [
        "not_actually_a_number * 3"
      ],
      "execution_count": 12,
      "outputs": [
        {
          "output_type": "execute_result",
          "data": {
            "application/vnd.google.colaboratory.intrinsic+json": {
              "type": "string"
            },
            "text/plain": [
              "'123123123'"
            ]
          },
          "metadata": {},
          "execution_count": 12
        }
      ]
    },
    {
      "cell_type": "markdown",
      "metadata": {
        "id": "iedeBpyeGOdJ"
      },
      "source": [
        "If you multiply a string by an integer, Python repeats the string the given number of times.\n",
        "\n",
        "If you have a string that contains only digits, you can convert it to an integer using the `int` function:"
      ]
    },
    {
      "cell_type": "code",
      "metadata": {
        "id": "I7tCyhKWGOdJ",
        "colab": {
          "base_uri": "https://localhost:8080/"
        },
        "outputId": "4d5e8b48-5fdc-437d-be9a-4063c58cf40a"
      },
      "source": [
        "int('123')"
      ],
      "execution_count": 13,
      "outputs": [
        {
          "output_type": "execute_result",
          "data": {
            "text/plain": [
              "123"
            ]
          },
          "metadata": {},
          "execution_count": 13
        }
      ]
    },
    {
      "cell_type": "markdown",
      "metadata": {
        "id": "ge-q9fizGOdJ"
      },
      "source": [
        "Or you can convert it to a floating-point number using `float`:"
      ]
    },
    {
      "cell_type": "code",
      "metadata": {
        "id": "FE8F4zOnGOdK",
        "colab": {
          "base_uri": "https://localhost:8080/"
        },
        "outputId": "e0e44953-f2b8-4815-c281-9be843417194"
      },
      "source": [
        "float('123')"
      ],
      "execution_count": 14,
      "outputs": [
        {
          "output_type": "execute_result",
          "data": {
            "text/plain": [
              "123.0"
            ]
          },
          "metadata": {},
          "execution_count": 14
        }
      ]
    },
    {
      "cell_type": "markdown",
      "metadata": {
        "id": "tjLWqxtaGOdK"
      },
      "source": [
        "But if the string contains a decimal point, you can't convert it to an `int`."
      ]
    },
    {
      "cell_type": "markdown",
      "metadata": {
        "id": "gwH3gm_ZGOdL"
      },
      "source": [
        "Going in the other direction, you can convert any type of value to a string using `str`:"
      ]
    },
    {
      "cell_type": "code",
      "metadata": {
        "id": "h68X8rKRGOdL",
        "colab": {
          "base_uri": "https://localhost:8080/",
          "height": 35
        },
        "outputId": "cbd8a258-fc89-4f14-9aef-0423b95692d8"
      },
      "source": [
        "str(123)"
      ],
      "execution_count": 15,
      "outputs": [
        {
          "output_type": "execute_result",
          "data": {
            "application/vnd.google.colaboratory.intrinsic+json": {
              "type": "string"
            },
            "text/plain": [
              "'123'"
            ]
          },
          "metadata": {},
          "execution_count": 15
        }
      ]
    },
    {
      "cell_type": "code",
      "metadata": {
        "id": "b4z2_4SUGOdL",
        "colab": {
          "base_uri": "https://localhost:8080/",
          "height": 35
        },
        "outputId": "44a03db4-9461-407c-8bb9-0efea674e5be"
      },
      "source": [
        "str(12.3)"
      ],
      "execution_count": 16,
      "outputs": [
        {
          "output_type": "execute_result",
          "data": {
            "application/vnd.google.colaboratory.intrinsic+json": {
              "type": "string"
            },
            "text/plain": [
              "'12.3'"
            ]
          },
          "metadata": {},
          "execution_count": 16
        }
      ]
    },
    {
      "cell_type": "markdown",
      "metadata": {
        "id": "peXsdzSQGOdN"
      },
      "source": [
        "## Dates and times\n",
        "\n",
        "If you read data from a file, you might also find that dates and times are represented with strings."
      ]
    },
    {
      "cell_type": "code",
      "metadata": {
        "id": "aaTtzpHxGOdN"
      },
      "source": [
        "not_really_a_date = 'June 4, 1989'"
      ],
      "execution_count": 17,
      "outputs": []
    },
    {
      "cell_type": "markdown",
      "metadata": {
        "id": "5VCauLR8GOdO"
      },
      "source": [
        "To confirm that this value is a string, we can use the `type` function, which takes a value and reports its type."
      ]
    },
    {
      "cell_type": "code",
      "metadata": {
        "id": "NBfx8c6WGOdO",
        "colab": {
          "base_uri": "https://localhost:8080/"
        },
        "outputId": "e9a9f2c2-2b12-4e0a-9c0a-e74abea71c42"
      },
      "source": [
        "type(not_really_a_date)"
      ],
      "execution_count": 18,
      "outputs": [
        {
          "output_type": "execute_result",
          "data": {
            "text/plain": [
              "str"
            ]
          },
          "metadata": {},
          "execution_count": 18
        }
      ]
    },
    {
      "cell_type": "markdown",
      "metadata": {
        "id": "zSHv8_B_GOdP"
      },
      "source": [
        "`str` indicates that the value of `not_really_a_date` is a string.\n",
        "\n",
        "We get the same result with `not_really_a_time`, below:"
      ]
    },
    {
      "cell_type": "code",
      "metadata": {
        "id": "iDKR4Z2iGOdt",
        "colab": {
          "base_uri": "https://localhost:8080/"
        },
        "outputId": "3b7d7a3e-4c69-49fc-89cc-4233ce83aece"
      },
      "source": [
        "not_really_a_time = '6:30:00'\n",
        "type(not_really_a_time)"
      ],
      "execution_count": 19,
      "outputs": [
        {
          "output_type": "execute_result",
          "data": {
            "text/plain": [
              "str"
            ]
          },
          "metadata": {},
          "execution_count": 19
        }
      ]
    },
    {
      "cell_type": "markdown",
      "metadata": {
        "id": "qzqBURfeGOdt"
      },
      "source": [
        "Strings that represent dates and times a readable for people, but they are not useful for computation.\n",
        "\n",
        "Fortunately, Python provides libraries for working with date and time data; the one we'll use is called Pandas.\n",
        "As always, we have to import a library before we use it; it is conventional to import Pandas with the abbreviated name `pd`:"
      ]
    },
    {
      "cell_type": "code",
      "metadata": {
        "id": "ou3SLt6IGOdu"
      },
      "source": [
        "import pandas as pd"
      ],
      "execution_count": 20,
      "outputs": []
    },
    {
      "cell_type": "markdown",
      "metadata": {
        "id": "NhwgMu41GOdu"
      },
      "source": [
        "Pandas provides a type called `Timestamp`, which represents a date and time.\n",
        "\n",
        "It also provides a function called `Timestamp`, which we can use to convert a string to a `Timestamp`:"
      ]
    },
    {
      "cell_type": "code",
      "metadata": {
        "id": "NKznDkPbGOdu",
        "colab": {
          "base_uri": "https://localhost:8080/"
        },
        "outputId": "bd8ef55b-1998-4df7-b2f9-49f7e6926c0e"
      },
      "source": [
        "pd.Timestamp('6:30:00')"
      ],
      "execution_count": 21,
      "outputs": [
        {
          "output_type": "execute_result",
          "data": {
            "text/plain": [
              "Timestamp('2021-11-22 06:30:00')"
            ]
          },
          "metadata": {},
          "execution_count": 21
        }
      ]
    },
    {
      "cell_type": "markdown",
      "metadata": {
        "id": "FseLWEiPGOdu"
      },
      "source": [
        "Or we can do the same thing using the variable defined above."
      ]
    },
    {
      "cell_type": "code",
      "metadata": {
        "id": "gJmneoOeGOdu",
        "colab": {
          "base_uri": "https://localhost:8080/"
        },
        "outputId": "153ffdec-f911-48af-90a4-c40f339eaa69"
      },
      "source": [
        "pd.Timestamp(not_really_a_time)"
      ],
      "execution_count": 23,
      "outputs": [
        {
          "output_type": "execute_result",
          "data": {
            "text/plain": [
              "Timestamp('2021-11-22 06:30:00')"
            ]
          },
          "metadata": {},
          "execution_count": 23
        }
      ]
    },
    {
      "cell_type": "markdown",
      "metadata": {
        "id": "m6Bk5z9E45YG"
      },
      "source": [
        "You can do the same with the `to_datetime()` function."
      ]
    },
    {
      "cell_type": "code",
      "metadata": {
        "colab": {
          "base_uri": "https://localhost:8080/"
        },
        "id": "w4bHrwED4-PA",
        "outputId": "db438b80-ed84-4187-8625-aaf0f6aa1019"
      },
      "source": [
        "pd.to_datetime(not_really_a_time)"
      ],
      "execution_count": 24,
      "outputs": [
        {
          "output_type": "execute_result",
          "data": {
            "text/plain": [
              "Timestamp('2021-11-22 06:30:00')"
            ]
          },
          "metadata": {},
          "execution_count": 24
        }
      ]
    },
    {
      "cell_type": "markdown",
      "metadata": {
        "id": "RJ1AILSnGOdv"
      },
      "source": [
        "In this example, the string specifies a time but no date, so Pandas fills in today's date.\n",
        "\n",
        "A `Timestamp` is a value, so you can assign it to a variable."
      ]
    },
    {
      "cell_type": "code",
      "metadata": {
        "id": "KPONf4P8GOdv",
        "colab": {
          "base_uri": "https://localhost:8080/"
        },
        "outputId": "cebd4520-33c7-4b8a-be6d-e353a33ffbe6"
      },
      "source": [
        "date_of_birth = pd.Timestamp('June 4, 1989')\n",
        "date_of_birth"
      ],
      "execution_count": 25,
      "outputs": [
        {
          "output_type": "execute_result",
          "data": {
            "text/plain": [
              "Timestamp('1989-06-04 00:00:00')"
            ]
          },
          "metadata": {},
          "execution_count": 25
        }
      ]
    },
    {
      "cell_type": "markdown",
      "metadata": {
        "id": "4MTFxYZMGOdv"
      },
      "source": [
        "If the string specifies a date but no time, Pandas fills in midnight as the default time.\n",
        "\n",
        "If you assign the `Timestamp` to a variable, you can use the variable name to get the year, month, and day, like this:"
      ]
    },
    {
      "cell_type": "code",
      "metadata": {
        "id": "X8x0MKhEGOdw",
        "colab": {
          "base_uri": "https://localhost:8080/"
        },
        "outputId": "10606d06-3afb-48db-a64e-1de2869a7a36"
      },
      "source": [
        "date_of_birth.year, date_of_birth.month, date_of_birth.day"
      ],
      "execution_count": 26,
      "outputs": [
        {
          "output_type": "execute_result",
          "data": {
            "text/plain": [
              "(1989, 6, 4)"
            ]
          },
          "metadata": {},
          "execution_count": 26
        }
      ]
    },
    {
      "cell_type": "markdown",
      "metadata": {
        "id": "f8UUDg10GOdw"
      },
      "source": [
        "You can also get the name of the month and the day of the week."
      ]
    },
    {
      "cell_type": "code",
      "metadata": {
        "id": "7i6W_pTNGOdy",
        "colab": {
          "base_uri": "https://localhost:8080/"
        },
        "outputId": "904277a4-9c84-4564-e428-9f6da8ca612f"
      },
      "source": [
        "date_of_birth.day_name(), date_of_birth.month_name()"
      ],
      "execution_count": 27,
      "outputs": [
        {
          "output_type": "execute_result",
          "data": {
            "text/plain": [
              "('Sunday', 'June')"
            ]
          },
          "metadata": {},
          "execution_count": 27
        }
      ]
    },
    {
      "cell_type": "markdown",
      "metadata": {
        "id": "wg5-ULknGOdz"
      },
      "source": [
        "`Timestamp` provides a function called `now` that returns the current date and time."
      ]
    },
    {
      "cell_type": "code",
      "metadata": {
        "id": "FyabICOyGOdz",
        "colab": {
          "base_uri": "https://localhost:8080/"
        },
        "outputId": "882dff5f-8834-4ede-940e-9cab31af699f"
      },
      "source": [
        "now = pd.Timestamp.now()\n",
        "now"
      ],
      "execution_count": 35,
      "outputs": [
        {
          "output_type": "execute_result",
          "data": {
            "text/plain": [
              "Timestamp('2021-11-22 09:11:51.839086')"
            ]
          },
          "metadata": {},
          "execution_count": 35
        }
      ]
    },
    {
      "cell_type": "markdown",
      "metadata": {
        "id": "m-BR9H8BGOdz"
      },
      "source": [
        "Same as:"
      ]
    },
    {
      "cell_type": "code",
      "metadata": {
        "id": "mRwksE2gGOeH",
        "colab": {
          "base_uri": "https://localhost:8080/"
        },
        "outputId": "4b602584-a455-441d-ba3a-54a58980f5b2"
      },
      "source": [
        "pd.to_datetime('now')"
      ],
      "execution_count": 34,
      "outputs": [
        {
          "output_type": "execute_result",
          "data": {
            "text/plain": [
              "Timestamp('2021-11-22 09:11:44.248622')"
            ]
          },
          "metadata": {},
          "execution_count": 34
        }
      ]
    },
    {
      "cell_type": "markdown",
      "metadata": {
        "id": "3CUvcE1gGOeI"
      },
      "source": [
        "## Timedelta\n",
        "\n",
        "`Timestamp` values support some arithmetic operations.  For example, you can compute the difference between two `Timestamps`:"
      ]
    },
    {
      "cell_type": "code",
      "metadata": {
        "id": "N_1mlx1aGOeI",
        "colab": {
          "base_uri": "https://localhost:8080/"
        },
        "outputId": "5a5744bc-3bc9-49bf-bdfb-d25ac025f9e0"
      },
      "source": [
        "age = now - date_of_birth\n",
        "age"
      ],
      "execution_count": 36,
      "outputs": [
        {
          "output_type": "execute_result",
          "data": {
            "text/plain": [
              "Timedelta('11859 days 09:11:51.839086')"
            ]
          },
          "metadata": {},
          "execution_count": 36
        }
      ]
    },
    {
      "cell_type": "markdown",
      "metadata": {
        "id": "WgEqICNRGOeI"
      },
      "source": [
        "The result is a `Timedelta` that represents the current age of someone born on `date_of_birth`.\n",
        "The `Timedelta` contains `components` that store the number of days, hours, etc. between the two `Timestamp` values."
      ]
    },
    {
      "cell_type": "code",
      "metadata": {
        "id": "TqUd_C3JGOeJ",
        "colab": {
          "base_uri": "https://localhost:8080/"
        },
        "outputId": "d3bdc744-d105-4ddb-b757-39021818c457"
      },
      "source": [
        "age.components"
      ],
      "execution_count": 37,
      "outputs": [
        {
          "output_type": "execute_result",
          "data": {
            "text/plain": [
              "Components(days=11859, hours=9, minutes=11, seconds=51, milliseconds=839, microseconds=86, nanoseconds=0)"
            ]
          },
          "metadata": {},
          "execution_count": 37
        }
      ]
    },
    {
      "cell_type": "markdown",
      "metadata": {
        "id": "vrB_Q1jGGOeJ"
      },
      "source": [
        "You can get one of the components like this:"
      ]
    },
    {
      "cell_type": "code",
      "metadata": {
        "id": "tTz2Ls7XGOeJ",
        "colab": {
          "base_uri": "https://localhost:8080/"
        },
        "outputId": "ae7c44da-e967-4c40-b6ba-0533e2159b7d"
      },
      "source": [
        "age.days"
      ],
      "execution_count": 38,
      "outputs": [
        {
          "output_type": "execute_result",
          "data": {
            "text/plain": [
              "11859"
            ]
          },
          "metadata": {},
          "execution_count": 38
        }
      ]
    },
    {
      "cell_type": "markdown",
      "metadata": {
        "id": "Z3pKIk9pGOeK"
      },
      "source": [
        "The biggest component of `Timedelta` is days, not years, because days are well defined and years are problematic.\n",
        "\n",
        "Most years are 365 days, but some are 366.  The average calendar year is 365.24 days, which is a very good approximation of a solar year, but it is not exact (see <https://pumas.jpl.nasa.gov/files/04_21_97_1.pdf>).\n",
        "\n",
        "One way to compute age in years is to divide age in days by 365.24:"
      ]
    },
    {
      "cell_type": "code",
      "metadata": {
        "id": "rhJh0XFDGOeK",
        "colab": {
          "base_uri": "https://localhost:8080/"
        },
        "outputId": "200dd47a-1fdb-4e99-f22f-02b8ce22400a"
      },
      "source": [
        "age.days / 365.24"
      ],
      "execution_count": 39,
      "outputs": [
        {
          "output_type": "execute_result",
          "data": {
            "text/plain": [
              "32.469061439053775"
            ]
          },
          "metadata": {},
          "execution_count": 39
        }
      ]
    },
    {
      "cell_type": "markdown",
      "metadata": {
        "id": "R6_Umw6qGOeK"
      },
      "source": [
        "But people usually report their ages in integer years.  We can use the Numpy `floor` function to round down:"
      ]
    },
    {
      "cell_type": "code",
      "metadata": {
        "id": "kloVKEjbGOeL",
        "colab": {
          "base_uri": "https://localhost:8080/"
        },
        "outputId": "edc0ac0c-1392-456b-b519-0234c915715e"
      },
      "source": [
        "import numpy as np\n",
        "\n",
        "np.floor(age.days / 365.24)"
      ],
      "execution_count": 40,
      "outputs": [
        {
          "output_type": "execute_result",
          "data": {
            "text/plain": [
              "32.0"
            ]
          },
          "metadata": {},
          "execution_count": 40
        }
      ]
    },
    {
      "cell_type": "markdown",
      "metadata": {
        "id": "XvUULJphGOeL"
      },
      "source": [
        "Or the `ceil` function (which stands for \"ceiling\") to round up:"
      ]
    },
    {
      "cell_type": "code",
      "metadata": {
        "id": "dVqIohVxGOeL",
        "colab": {
          "base_uri": "https://localhost:8080/"
        },
        "outputId": "49d5970f-3fb4-4977-ccea-244ceee6822b"
      },
      "source": [
        "np.ceil(age.days / 365.24)"
      ],
      "execution_count": 41,
      "outputs": [
        {
          "output_type": "execute_result",
          "data": {
            "text/plain": [
              "33.0"
            ]
          },
          "metadata": {},
          "execution_count": 41
        }
      ]
    },
    {
      "cell_type": "markdown",
      "metadata": {
        "id": "TwdZfZHMGOeM"
      },
      "source": [
        "We can also compare `Timestamp` values to see which comes first.\n",
        "For example, let's see if a person with a given birthdate has already had a birthday this year.\n",
        "Here's a new `Timestamp` with the year from `now` and the month and day from `date_of_birth`."
      ]
    },
    {
      "cell_type": "code",
      "metadata": {
        "id": "V0XOtZG7GOeM",
        "colab": {
          "base_uri": "https://localhost:8080/"
        },
        "outputId": "1c8eaf20-0357-4a6c-f048-74179a212a3f"
      },
      "source": [
        "bday_this_year = pd.Timestamp(now.year, \n",
        "                              date_of_birth.month, \n",
        "                              date_of_birth.day)\n",
        "bday_this_year"
      ],
      "execution_count": 42,
      "outputs": [
        {
          "output_type": "execute_result",
          "data": {
            "text/plain": [
              "Timestamp('2021-06-04 00:00:00')"
            ]
          },
          "metadata": {},
          "execution_count": 42
        }
      ]
    },
    {
      "cell_type": "markdown",
      "metadata": {
        "id": "DwpbwVw9GOeM"
      },
      "source": [
        "The result represents the person's birthday this year.  Now we can use the `>` operator to check whether `now` is later than the birthday:"
      ]
    },
    {
      "cell_type": "code",
      "metadata": {
        "id": "qq-Fl7vyGOeN",
        "colab": {
          "base_uri": "https://localhost:8080/"
        },
        "outputId": "cb5a0ccc-dd1b-49d3-b09c-daa448451524"
      },
      "source": [
        "now > bday_this_year"
      ],
      "execution_count": 43,
      "outputs": [
        {
          "output_type": "execute_result",
          "data": {
            "text/plain": [
              "True"
            ]
          },
          "metadata": {},
          "execution_count": 43
        }
      ]
    },
    {
      "cell_type": "markdown",
      "metadata": {
        "id": "gzApJPvQGOeN"
      },
      "source": [
        "The result is either `True` or `False`.\n",
        "These values belong to a type called `bool`, short for \"Boolean algebra\", which is a branch of algebra where all values are either true or false. "
      ]
    },
    {
      "cell_type": "code",
      "metadata": {
        "id": "mFW1B_a3GOeN",
        "colab": {
          "base_uri": "https://localhost:8080/"
        },
        "outputId": "d40aed76-fa28-4652-e9b3-446722242f5e"
      },
      "source": [
        "type(True)"
      ],
      "execution_count": 44,
      "outputs": [
        {
          "output_type": "execute_result",
          "data": {
            "text/plain": [
              "bool"
            ]
          },
          "metadata": {},
          "execution_count": 44
        }
      ]
    },
    {
      "cell_type": "code",
      "metadata": {
        "id": "xK_rW0UdGOeN",
        "colab": {
          "base_uri": "https://localhost:8080/"
        },
        "outputId": "f7d3676f-9284-4d22-855c-ce9ae6f0dc08"
      },
      "source": [
        "type(False)"
      ],
      "execution_count": 45,
      "outputs": [
        {
          "output_type": "execute_result",
          "data": {
            "text/plain": [
              "bool"
            ]
          },
          "metadata": {},
          "execution_count": 45
        }
      ]
    }
  ]
}