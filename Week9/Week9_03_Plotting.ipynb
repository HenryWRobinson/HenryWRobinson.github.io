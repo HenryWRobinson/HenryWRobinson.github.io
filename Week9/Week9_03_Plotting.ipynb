{
  "nbformat": 4,
  "nbformat_minor": 0,
  "metadata": {
    "celltoolbar": "Tags",
    "kernelspec": {
      "display_name": "Python 3",
      "language": "python",
      "name": "python3"
    },
    "language_info": {
      "codemirror_mode": {
        "name": "ipython",
        "version": 3
      },
      "file_extension": ".py",
      "mimetype": "text/x-python",
      "name": "python",
      "nbconvert_exporter": "python",
      "pygments_lexer": "ipython3",
      "version": "3.7.7"
    },
    "colab": {
      "name": "Week9_03_Plotting.ipynb",
      "provenance": [],
      "collapsed_sections": []
    }
  },
  "cells": [
    {
      "cell_type": "markdown",
      "metadata": {
        "id": "LeEt9JwJGRrH"
      },
      "source": [
        "# Plotting"
      ]
    },
    {
      "cell_type": "markdown",
      "metadata": {
        "tags": [],
        "id": "554JgHOUGRrJ"
      },
      "source": [
        "**Dénes Csala**  \n",
        "University of Bristol, 2021  \n",
        "\n",
        "Based on *Elements of Data Science* ([Allen B. Downey](https://allendowney.com), 2021) and *Python Data Science Handbook* ([Jake VanderPlas](https://jakevdp.github.io/PythonDataScienceHandbook/), 2018)\n",
        "\n",
        "License: [MIT](https://mit-license.org/)"
      ]
    },
    {
      "cell_type": "markdown",
      "metadata": {
        "id": "RVawwuDyGRrL"
      },
      "source": [
        "## Keyword arguments\n",
        "\n",
        "When you call most functions, you have to provide values.  For example, when you call `np.exp`, the value you provide is a number: "
      ]
    },
    {
      "cell_type": "code",
      "metadata": {
        "id": "zKcszABWGRrM",
        "colab": {
          "base_uri": "https://localhost:8080/"
        },
        "outputId": "2a9f616f-ba92-4223-9868-8fc405fffd3f"
      },
      "source": [
        "import numpy as np\n",
        "\n",
        "np.exp(1)"
      ],
      "execution_count": 1,
      "outputs": [
        {
          "output_type": "execute_result",
          "data": {
            "text/plain": [
              "2.718281828459045"
            ]
          },
          "metadata": {},
          "execution_count": 1
        }
      ]
    },
    {
      "cell_type": "markdown",
      "metadata": {
        "id": "bPuH32MdGRrN"
      },
      "source": [
        "When you call `np.power`, you have to provide two numbers:"
      ]
    },
    {
      "cell_type": "code",
      "metadata": {
        "id": "ZOO29A3AGRrO",
        "colab": {
          "base_uri": "https://localhost:8080/"
        },
        "outputId": "a879897c-f1c3-45da-954c-3e47484d273f"
      },
      "source": [
        "np.power(10, 6)"
      ],
      "execution_count": 2,
      "outputs": [
        {
          "output_type": "execute_result",
          "data": {
            "text/plain": [
              "1000000"
            ]
          },
          "metadata": {},
          "execution_count": 2
        }
      ]
    },
    {
      "cell_type": "markdown",
      "metadata": {
        "id": "nENQu6SWGRrP"
      },
      "source": [
        "The values you provide are called **arguments**.  Specifically, the values in these examples are **positional arguments** because their position determines how they are used.\n",
        "In the second example, `power` computes `10` to the sixth power, not `6` to the 10th power because of the order of the arguments.\n",
        "\n",
        "Many functions also take **keyword arguments**, which are optional.  For example, we have previously used `int` to convert a string to an integer."
      ]
    },
    {
      "cell_type": "code",
      "metadata": {
        "id": "2LkWEcDdGRrP",
        "colab": {
          "base_uri": "https://localhost:8080/"
        },
        "outputId": "906bc694-c65f-48ef-dc44-aacccafcfd2a"
      },
      "source": [
        "int('21')"
      ],
      "execution_count": 3,
      "outputs": [
        {
          "output_type": "execute_result",
          "data": {
            "text/plain": [
              "21"
            ]
          },
          "metadata": {},
          "execution_count": 3
        }
      ]
    },
    {
      "cell_type": "markdown",
      "metadata": {
        "id": "abtNxqcdGRrQ"
      },
      "source": [
        "By default, `int` assumes that the number is in base 10.  But you can provide a keyword argument that specifies a different base.\n",
        "For example, the string `'21'`, interpreted in base 8, represents the number `2 * 8 + 1 = 17`.  Here's how we do this conversion using `int`."
      ]
    },
    {
      "cell_type": "code",
      "metadata": {
        "id": "ZAzdAzYzGRrQ",
        "colab": {
          "base_uri": "https://localhost:8080/"
        },
        "outputId": "cb6457f9-a931-44d7-b4ff-822608f9187c"
      },
      "source": [
        "int('21', base=8)"
      ],
      "execution_count": 4,
      "outputs": [
        {
          "output_type": "execute_result",
          "data": {
            "text/plain": [
              "17"
            ]
          },
          "metadata": {},
          "execution_count": 4
        }
      ]
    },
    {
      "cell_type": "markdown",
      "metadata": {
        "id": "fmnY0S6RGRrR"
      },
      "source": [
        "The string `'21'` is a positional argument.  The integer value `8` is a keyword argument, with the keyword `base`.\n",
        "\n",
        "Specifying a keyword argument looks like an assignment statement, but it does not create a new variable.\n",
        "And when you specify a keyword argument, you don't choose the variable name.  In this example, the keyword name, `base`, is part of the definition of `int`.  If you specify another keyword name, you get an error."
      ]
    },
    {
      "cell_type": "markdown",
      "metadata": {
        "id": "LHo3SkhLGRrY"
      },
      "source": [
        "## Sandwiches\n",
        "\n",
        "Let's look at data from an article in *The Economist* comparing sandwich prices in Boston and London: \"Why Americans pay more for lunch than Britons do\" at <https://www.economist.com/finance-and-economics/2019/09/07/why-americans-pay-more-for-lunch-than-britons-do>.\n",
        "\n",
        "The article includes this graph showing prices of several sandwiches in the two cities:\n",
        "\n",
        "![](https://github.com/AllenDowney/ElementsOfDataScience/raw/master/figs/20190907_FNC941.png)\n",
        "\n",
        "As an exercise, let's see if we can replicate this figure.\n",
        "Here's the data from the article again: the names of the sandwiches and the price list for each city."
      ]
    },
    {
      "cell_type": "code",
      "metadata": {
        "id": "D4s22C26GRrY"
      },
      "source": [
        "name_list = [\n",
        "    'Lobster roll',\n",
        "    'Chicken caesar',\n",
        "    'Bang bang chicken',\n",
        "    'Ham and cheese',\n",
        "    'Tuna and cucumber',\n",
        "    'Egg'\n",
        "]\n",
        "\n",
        "boston_price_list = [9.99, 7.99, 7.49, 7, 6.29, 4.99]\n",
        "london_price_list = [7.5, 5, 4.4, 5, 3.75, 2.25]"
      ],
      "execution_count": 5,
      "outputs": []
    },
    {
      "cell_type": "markdown",
      "metadata": {
        "id": "kJhJK8nGGRrY"
      },
      "source": [
        "We use the python plotting library, called `matplotlib`:"
      ]
    },
    {
      "cell_type": "code",
      "metadata": {
        "id": "86kPZl9U8e1-"
      },
      "source": [
        "import matplotlib.pyplot as plt"
      ],
      "execution_count": 8,
      "outputs": []
    },
    {
      "cell_type": "code",
      "metadata": {
        "id": "fEohudPmGRrZ",
        "colab": {
          "base_uri": "https://localhost:8080/",
          "height": 279
        },
        "outputId": "d1edb6c7-833a-4274-c2d1-13f1f17219fa"
      },
      "source": [
        "plt.plot(boston_price_list, name_list)\n",
        "plt.xlabel('Price in USD');"
      ],
      "execution_count": 9,
      "outputs": [
        {
          "output_type": "display_data",
          "data": {
            "image/png": "[encoded data removed]",
            "text/plain": [
              "<Figure size 432x288 with 1 Axes>"
            ]
          },
          "metadata": {
            "needs_background": "light"
          }
        }
      ]
    },
    {
      "cell_type": "markdown",
      "metadata": {
        "id": "qHiDUwOPGRrZ"
      },
      "source": [
        "`name_list` is a list of strings; Pyplot orders them from top to bottom, equally spaced.\n",
        "\n",
        "By default Pyplot connects the points with lines, but in this example the lines don't make sense because the sandwich names are **categorical**, not numerical.  You can't interpolate between an egg sandwich and a tuna sandwich.\n",
        "\n",
        "We can turn on markers and turn off lines with keyword arguments. Quite similar to [Vega/Vega-lite](https://vega.github.io/vega-lite/) _marks_. "
      ]
    },
    {
      "cell_type": "code",
      "metadata": {
        "id": "SlX0hCJlGRrZ",
        "colab": {
          "base_uri": "https://localhost:8080/",
          "height": 279
        },
        "outputId": "855b1359-4800-4946-e031-b25d34f447d0"
      },
      "source": [
        "plt.plot(boston_price_list, name_list, \n",
        "         marker='o', linestyle='')\n",
        "plt.xlabel('Price in USD');"
      ],
      "execution_count": 12,
      "outputs": [
        {
          "output_type": "display_data",
          "data": {
            "image/png": "[encoded data removed]",
            "text/plain": [
              "<Figure size 432x288 with 1 Axes>"
            ]
          },
          "metadata": {
            "needs_background": "light"
          }
        }
      ]
    },
    {
      "cell_type": "markdown",
      "metadata": {
        "id": "bcvbXbH9GRrZ"
      },
      "source": [
        "Or we can do the same thing more concisely by providing a **format string** as a positional argument.  You can read the documentation of `plt.plot` to learn more about format strings."
      ]
    },
    {
      "cell_type": "code",
      "metadata": {
        "id": "7vqtInWuGRrZ",
        "colab": {
          "base_uri": "https://localhost:8080/",
          "height": 295
        },
        "outputId": "fb72acb5-50db-4c7e-c569-457a362f94d9"
      },
      "source": [
        "plt.plot(boston_price_list, name_list, 'o')\n",
        "plt.plot(london_price_list, name_list, 's')\n",
        "\n",
        "plt.xlabel('Price in USD')\n",
        "plt.title('Pret a Manger prices in Boston and London');"
      ],
      "execution_count": 13,
      "outputs": [
        {
          "output_type": "display_data",
          "data": {
            "image/png": "[encoded data removed]",
            "text/plain": [
              "<Figure size 432x288 with 1 Axes>"
            ]
          },
          "metadata": {
            "needs_background": "light"
          }
        }
      ]
    },
    {
      "cell_type": "markdown",
      "metadata": {
        "id": "4Pd3lZHqGRrZ"
      },
      "source": [
        "I added a title at the same time.\n",
        "\n",
        "Now, to approximate the colors in the original figure, we can use the strings `'C3'` and `'C0'`, which specify colors from the default color sequence.  You can read the documentation to learn more about specifying colors in Pyplot: <https://matplotlib.org/3.1.1/tutorials/colors/colors.html>."
      ]
    },
    {
      "cell_type": "code",
      "metadata": {
        "id": "yKGiG14bGRrZ",
        "colab": {
          "base_uri": "https://localhost:8080/",
          "height": 295
        },
        "outputId": "3d663716-0030-4359-b010-5a1c9cce9474"
      },
      "source": [
        "plt.plot(boston_price_list, name_list, 'o', color='C3')\n",
        "plt.plot(london_price_list, name_list, 's', color='C0')\n",
        "\n",
        "plt.xlabel('Price in USD')\n",
        "plt.title('Pret a Manger prices in Boston and London');"
      ],
      "execution_count": 14,
      "outputs": [
        {
          "output_type": "display_data",
          "data": {
            "image/png": "[encoded data removed]",
            "text/plain": [
              "<Figure size 432x288 with 1 Axes>"
            ]
          },
          "metadata": {
            "needs_background": "light"
          }
        }
      ]
    },
    {
      "cell_type": "markdown",
      "metadata": {
        "id": "3UGEqYBWGRra"
      },
      "source": [
        "To connect the dots with lines, we'll use `plt.hlines`, which draws horizontal lines.  It takes three arguments: a sequence of values on the `y` axis, which are the sandwich names in this example, and two sequences of values on the `x` axis, which are the London prices and Boston prices."
      ]
    },
    {
      "cell_type": "code",
      "metadata": {
        "id": "lEWQ0GdnGRra",
        "colab": {
          "base_uri": "https://localhost:8080/",
          "height": 295
        },
        "outputId": "304f5965-aca5-490a-bfee-5bfcf81f3ba5"
      },
      "source": [
        "plt.plot(boston_price_list, name_list, 'o', color='C3')\n",
        "plt.plot(london_price_list, name_list, 's', color='C0')\n",
        "\n",
        "plt.hlines(name_list, london_price_list, boston_price_list)\n",
        "\n",
        "plt.xlabel('Price in USD')\n",
        "plt.title('Pret a Manger prices in Boston and London');"
      ],
      "execution_count": 15,
      "outputs": [
        {
          "output_type": "display_data",
          "data": {
            "image/png": "[encoded data removed]",
            "text/plain": [
              "<Figure size 432x288 with 1 Axes>"
            ]
          },
          "metadata": {
            "needs_background": "light"
          }
        }
      ]
    }
  ]
}
